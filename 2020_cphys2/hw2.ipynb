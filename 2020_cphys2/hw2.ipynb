{
 "cells": [
  {
   "cell_type": "markdown",
   "metadata": {},
   "source": [
    "# 09-15 전산물리학 과제 \n",
    "2018016037 물리학과 조은강\n",
    "\n",
    "1. 구구단 함수\n",
    "구구단 몇 단을 출력할 것인지를 입력받아 구구단을 출력하는 함수를 작성하여라.\n",
    "\n",
    "2. 홀수/짝수 판별\n",
    "숫자를 하나 입력받아 홀수인지 짝수인지 판별하는 함수를 작성하여라.\n",
    "다음의 정보가 도움이 될 수 있다.\n",
    "\n",
    "\"%\"는 나머지를 출력하는 연산이다.\n",
    "3. 평균\n",
    "숫자로 이루어져 있는 리스트를 입력받아 숫자들의 평균을 계산하는 함수를 작성하여라.\n",
    "다음의 정보가 도움이 될 수 있다.\n",
    "\n",
    "\"len()\"은 리스트의 길이를 출력하는 함수이다.\n",
    "\"sum()\" 함수는 사용하지 말 것!"
   ]
  },
  {
   "cell_type": "markdown",
   "metadata": {},
   "source": [
    "#1"
   ]
  },
  {
   "cell_type": "code",
   "execution_count": 26,
   "metadata": {},
   "outputs": [],
   "source": [
    "def dan(a):\n",
    "    x=[1,2,3,4,5,6,7,8,9]\n",
    "    return [i*a for i in x]"
   ]
  },
  {
   "cell_type": "code",
   "execution_count": 77,
   "metadata": {},
   "outputs": [
    {
     "data": {
      "text/plain": [
       "[3, 6, 9, 12, 15, 18, 21, 24, 27]"
      ]
     },
     "execution_count": 77,
     "metadata": {},
     "output_type": "execute_result"
    }
   ],
   "source": [
    "dan(3)"
   ]
  },
  {
   "cell_type": "markdown",
   "metadata": {},
   "source": [
    "#2"
   ]
  },
  {
   "cell_type": "code",
   "execution_count": 20,
   "metadata": {},
   "outputs": [],
   "source": [
    "def hol(a):\n",
    "    b=a%2\n",
    "    if b==1:\n",
    "        x='홀수'\n",
    "    elif b==0:\n",
    "        x='짝수'\n",
    "    return x"
   ]
  },
  {
   "cell_type": "code",
   "execution_count": 80,
   "metadata": {},
   "outputs": [
    {
     "data": {
      "text/plain": [
       "('짝수', '홀수')"
      ]
     },
     "execution_count": 80,
     "metadata": {},
     "output_type": "execute_result"
    }
   ],
   "source": [
    "hol(4),hol(15)"
   ]
  },
  {
   "cell_type": "markdown",
   "metadata": {},
   "source": [
    "#3"
   ]
  },
  {
   "cell_type": "code",
   "execution_count": 79,
   "metadata": {},
   "outputs": [],
   "source": [
    "def av(a):\n",
    "    b=len(a)\n",
    "    f=0\n",
    "    x=a[f]\n",
    "    for i in range(1,b):\n",
    "        f=f+1\n",
    "        x=x+a[f]\n",
    "    return x/b"
   ]
  },
  {
   "cell_type": "code",
   "execution_count": 81,
   "metadata": {},
   "outputs": [
    {
     "data": {
      "text/plain": [
       "(2.0, 3700.0)"
      ]
     },
     "execution_count": 81,
     "metadata": {},
     "output_type": "execute_result"
    }
   ],
   "source": [
    "av([1,2,3]),av([100,1000,10000])"
   ]
  },
  {
   "cell_type": "code",
   "execution_count": null,
   "metadata": {},
   "outputs": [],
   "source": []
  },
  {
   "cell_type": "code",
   "execution_count": null,
   "metadata": {},
   "outputs": [],
   "source": []
  },
  {
   "cell_type": "code",
   "execution_count": null,
   "metadata": {},
   "outputs": [],
   "source": []
  }
 ],
 "metadata": {
  "kernelspec": {
   "display_name": "Python 3",
   "language": "python",
   "name": "python3"
  },
  "language_info": {
   "codemirror_mode": {
    "name": "ipython",
    "version": 3
   },
   "file_extension": ".py",
   "mimetype": "text/x-python",
   "name": "python",
   "nbconvert_exporter": "python",
   "pygments_lexer": "ipython3",
   "version": "3.7.6"
  }
 },
 "nbformat": 4,
 "nbformat_minor": 4
}
