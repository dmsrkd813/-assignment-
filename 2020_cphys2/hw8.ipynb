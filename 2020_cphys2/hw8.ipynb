{
 "cells": [
  {
   "cell_type": "markdown",
   "metadata": {},
   "source": [
    "2018016037 물리학과 조은강\n",
    "\n",
    "1. MNIST Digits\n",
    "MNIST 손글씨 이미지를 딥러닝을 이용하여 분류하시오\n",
    "\n",
    "2. Fashin MNIST\n",
    "MNIST 패션 이미지를 딥러닝을 이용하여 분류하시오.\n",
    "MNIST 패션데이터는 10종류의 60000개 패션 학습데이터와 10000개의 테스트 데이터로 구성되어 있습니다. 각각의 레이블의 의미는 다음과 같습니다.\n",
    "\n",
    "Label\tDescription\n",
    "0\tT-shirt/top\n",
    "1\tTrouser\n",
    "2\tPullover\n",
    "3\tDress\n",
    "4\tCoat\n",
    "5\tSandal\n",
    "6\tShirt\n",
    "7\tSneaker\n",
    "8\tBag\n",
    "9\tAnkle boot"
   ]
  },
  {
   "cell_type": "code",
   "execution_count": 157,
   "metadata": {},
   "outputs": [],
   "source": [
    "from keras.datasets import mnist\n",
    "from tensorflow import keras\n",
    "from keras import models \n",
    "from keras import layers\n",
    "import numpy as np\n",
    "import matplotlib.pyplot as plt\n",
    "from keras.utils import to_categorical"
   ]
  },
  {
   "cell_type": "code",
   "execution_count": 158,
   "metadata": {},
   "outputs": [],
   "source": [
    "(X_train, y_train), (X_test, y_test) = mnist.load_data()\n",
    "y_train=to_categorical(y_train)\n",
    "y_test=to_categorical(y_test)"
   ]
  },
  {
   "cell_type": "code",
   "execution_count": 159,
   "metadata": {},
   "outputs": [
    {
     "data": {
      "text/plain": [
       "(60000, 28, 28)"
      ]
     },
     "execution_count": 159,
     "metadata": {},
     "output_type": "execute_result"
    }
   ],
   "source": [
    "X_train.shape"
   ]
  },
  {
   "cell_type": "code",
   "execution_count": 160,
   "metadata": {},
   "outputs": [
    {
     "name": "stdout",
     "output_type": "stream",
     "text": [
      "Model: \"sequential_9\"\n",
      "_________________________________________________________________\n",
      "Layer (type)                 Output Shape              Param #   \n",
      "=================================================================\n",
      "dense_30 (Dense)             (None, 512)               401920    \n",
      "_________________________________________________________________\n",
      "dense_31 (Dense)             (None, 512)               262656    \n",
      "_________________________________________________________________\n",
      "dense_32 (Dense)             (None, 512)               262656    \n",
      "_________________________________________________________________\n",
      "dense_33 (Dense)             (None, 10)                5130      \n",
      "=================================================================\n",
      "Total params: 932,362\n",
      "Trainable params: 932,362\n",
      "Non-trainable params: 0\n",
      "_________________________________________________________________\n"
     ]
    }
   ],
   "source": [
    "net.summary()"
   ]
  },
  {
   "cell_type": "code",
   "execution_count": 161,
   "metadata": {},
   "outputs": [],
   "source": [
    "# preprocessing(사전처리)\n",
    "X_train0 = X_train.reshape((60000, 28*28))\n",
    "X_train1 = X_train0/255\n",
    "\n",
    "X_test0 = X_test.reshape((10000, 28*28))\n",
    "X_test1 = X_test0/255"
   ]
  },
  {
   "cell_type": "code",
   "execution_count": 162,
   "metadata": {},
   "outputs": [
    {
     "name": "stdout",
     "output_type": "stream",
     "text": [
      "469/469 [==============================] - 25s 53ms/step - loss: 0.0528 - acc: 0.9836 7s - loss: 0 - ETA: 1s - loss: \n",
      "313/313 [==============================] - 3s 9ms/step - loss: 0.0783 - acc: 0.9747\n"
     ]
    },
    {
     "data": {
      "text/plain": [
       "(60000, 784)"
      ]
     },
     "execution_count": 162,
     "metadata": {},
     "output_type": "execute_result"
    }
   ],
   "source": [
    "\n",
    "net.fit(X_train1, y_train, epochs=1, batch_size=128)\n",
    "test_loss, test_acc = net.evaluate(X_test1,y_test)\n",
    "X_train1.shape"
   ]
  },
  {
   "cell_type": "code",
   "execution_count": 163,
   "metadata": {},
   "outputs": [],
   "source": [
    "X_val = X_train1[:10000]\n",
    "partial_X_train1 = X_train1[10000:]\n",
    "\n",
    "y_val = y_train[:10000]\n",
    "partial_y_train = y_train[10000:]"
   ]
  },
  {
   "cell_type": "code",
   "execution_count": 164,
   "metadata": {},
   "outputs": [],
   "source": [
    "\n",
    "model = models.Sequential()\n",
    "model.add(layers.Dense(512, activation='relu', input_shape=(28*28,))) \n",
    "model.add(layers.Dropout(0.5))  \n",
    "model.add(layers.Dense(512, activation='relu')) \n",
    "model.add(layers.Dropout(0.5))  \n",
    "model.add(layers.Dense(10, activation='softmax')) \n",
    "model.compile(optimizer='nadam',loss='categorical_crossentropy',metrics=['acc'])\n"
   ]
  },
  {
   "cell_type": "code",
   "execution_count": 165,
   "metadata": {},
   "outputs": [
    {
     "data": {
      "text/plain": [
       "array([[0., 0., 0., ..., 0., 0., 0.],\n",
       "       [0., 0., 0., ..., 0., 0., 0.],\n",
       "       [0., 0., 0., ..., 0., 0., 0.],\n",
       "       ...,\n",
       "       [0., 0., 0., ..., 0., 0., 0.],\n",
       "       [0., 0., 0., ..., 0., 0., 0.],\n",
       "       [0., 0., 0., ..., 0., 0., 0.]])"
      ]
     },
     "execution_count": 165,
     "metadata": {},
     "output_type": "execute_result"
    }
   ],
   "source": [
    "partial_X_train1"
   ]
  },
  {
   "cell_type": "code",
   "execution_count": 166,
   "metadata": {},
   "outputs": [
    {
     "name": "stdout",
     "output_type": "stream",
     "text": [
      "Epoch 1/20\n",
      "391/391 [==============================] - 17s 43ms/step - loss: 0.3820 - acc: 0.8823 - val_loss: 0.1503 - val_acc: 0.9552\n",
      "Epoch 2/20\n",
      "391/391 [==============================] - 15s 39ms/step - loss: 0.1703 - acc: 0.9483 - val_loss: 0.1047 - val_acc: 0.9691\n",
      "Epoch 3/20\n",
      "391/391 [==============================] - 15s 38ms/step - loss: 0.1316 - acc: 0.9598 - val_loss: 0.0948 - val_acc: 0.9712\n",
      "Epoch 4/20\n",
      "391/391 [==============================] - 15s 39ms/step - loss: 0.1113 - acc: 0.9657 - val_loss: 0.0808 - val_acc: 0.9762\n",
      "Epoch 5/20\n",
      "391/391 [==============================] - 16s 41ms/step - loss: 0.0960 - acc: 0.9704 - val_loss: 0.0786 - val_acc: 0.9776\n",
      "Epoch 6/20\n",
      "391/391 [==============================] - 15s 38ms/step - loss: 0.0872 - acc: 0.9723 - val_loss: 0.0696 - val_acc: 0.9800\n",
      "Epoch 7/20\n",
      "391/391 [==============================] - 15s 39ms/step - loss: 0.0795 - acc: 0.9746 - val_loss: 0.0756 - val_acc: 0.9780\n",
      "Epoch 8/20\n",
      "391/391 [==============================] - 13s 34ms/step - loss: 0.0706 - acc: 0.9773 - val_loss: 0.0694 - val_acc: 0.9800\n",
      "Epoch 9/20\n",
      "391/391 [==============================] - 9s 23ms/step - loss: 0.0654 - acc: 0.9788 - val_loss: 0.0713 - val_acc: 0.9791\n",
      "Epoch 10/20\n",
      "391/391 [==============================] - 9s 23ms/step - loss: 0.0664 - acc: 0.9792 - val_loss: 0.0689 - val_acc: 0.9805\n",
      "Epoch 11/20\n",
      "391/391 [==============================] - 9s 23ms/step - loss: 0.0591 - acc: 0.9805 - val_loss: 0.0682 - val_acc: 0.9816\n",
      "Epoch 12/20\n",
      "391/391 [==============================] - 9s 23ms/step - loss: 0.0571 - acc: 0.9815 - val_loss: 0.0669 - val_acc: 0.9812\n",
      "Epoch 13/20\n",
      "391/391 [==============================] - 9s 23ms/step - loss: 0.0564 - acc: 0.9813 - val_loss: 0.0656 - val_acc: 0.9825\n",
      "Epoch 14/20\n",
      "391/391 [==============================] - 9s 23ms/step - loss: 0.0514 - acc: 0.9834 - val_loss: 0.0696 - val_acc: 0.9810\n",
      "Epoch 15/20\n",
      "391/391 [==============================] - 9s 22ms/step - loss: 0.0502 - acc: 0.9834 - val_loss: 0.0686 - val_acc: 0.9818\n",
      "Epoch 16/20\n",
      "391/391 [==============================] - 9s 22ms/step - loss: 0.0507 - acc: 0.9835 - val_loss: 0.0692 - val_acc: 0.9813\n",
      "Epoch 17/20\n",
      "391/391 [==============================] - 9s 22ms/step - loss: 0.0468 - acc: 0.9855 - val_loss: 0.0678 - val_acc: 0.9830\n",
      "Epoch 18/20\n",
      "391/391 [==============================] - 9s 22ms/step - loss: 0.0472 - acc: 0.9846 - val_loss: 0.0671 - val_acc: 0.9820\n",
      "Epoch 19/20\n",
      "391/391 [==============================] - 9s 23ms/step - loss: 0.0443 - acc: 0.9853 - val_loss: 0.0732 - val_acc: 0.9826\n",
      "Epoch 20/20\n",
      "391/391 [==============================] - 9s 22ms/step - loss: 0.0437 - acc: 0.9861 - val_loss: 0.0675 - val_acc: 0.9825\n"
     ]
    }
   ],
   "source": [
    "val= model.fit(partial_X_train1,partial_y_train,epochs=20, batch_size=128, validation_data=(X_val, y_val))"
   ]
  },
  {
   "cell_type": "code",
   "execution_count": null,
   "metadata": {
    "scrolled": false
   },
   "outputs": [],
   "source": []
  },
  {
   "cell_type": "code",
   "execution_count": null,
   "metadata": {},
   "outputs": [],
   "source": []
  },
  {
   "cell_type": "code",
   "execution_count": 167,
   "metadata": {},
   "outputs": [],
   "source": [
    "val_dict = val.history\n",
    "loss = val_dict['loss']\n",
    "val_loss = val_dict['val_loss']"
   ]
  },
  {
   "cell_type": "code",
   "execution_count": null,
   "metadata": {},
   "outputs": [],
   "source": []
  },
  {
   "cell_type": "code",
   "execution_count": 217,
   "metadata": {},
   "outputs": [
    {
     "data": {
      "text/plain": [
       "<matplotlib.image.AxesImage at 0x27c82174a48>"
      ]
     },
     "execution_count": 217,
     "metadata": {},
     "output_type": "execute_result"
    },
    {
     "data": {
      "image/png": "[encoded data removed]",
      "text/plain": [
       "<Figure size 432x288 with 1 Axes>"
      ]
     },
     "metadata": {
      "needs_background": "light"
     },
     "output_type": "display_data"
    }
   ],
   "source": [
    "plt.imshow(X_train[123],cmap=plt.cm.binary)"
   ]
  },
  {
   "cell_type": "code",
   "execution_count": 218,
   "metadata": {},
   "outputs": [
    {
     "data": {
      "text/plain": [
       "7"
      ]
     },
     "execution_count": 218,
     "metadata": {},
     "output_type": "execute_result"
    }
   ],
   "source": [
    "np.argmax(net.predict(X_train0)[123])"
   ]
  },
  {
   "cell_type": "code",
   "execution_count": null,
   "metadata": {},
   "outputs": [],
   "source": []
  },
  {
   "cell_type": "code",
   "execution_count": null,
   "metadata": {},
   "outputs": [],
   "source": []
  },
  {
   "cell_type": "code",
   "execution_count": 247,
   "metadata": {},
   "outputs": [],
   "source": [
    "from keras.datasets import fashion_mnist\n",
    "from tensorflow import keras\n",
    "from keras import models \n",
    "from keras import layers\n",
    "import numpy as np\n",
    "import matplotlib.pyplot as plt\n",
    "from keras.utils import to_categorical\n",
    "\n",
    "(X, Y), (X_t, y_t) = fashion_mnist.load_data()"
   ]
  },
  {
   "cell_type": "code",
   "execution_count": null,
   "metadata": {},
   "outputs": [],
   "source": []
  },
  {
   "cell_type": "code",
   "execution_count": 242,
   "metadata": {},
   "outputs": [],
   "source": [
    "y=to_categorical(Y)\n",
    "y_t=to_categorical(y_t)\n",
    "\n",
    "net = models.Sequential()\n",
    "net.add(layers.Dense(512, activation='relu', input_shape=(28*28,))) \n",
    "net.add(layers.Dense(512, activation='relu')) \n",
    "net.add(layers.Dense(512, activation='relu')) \n",
    "net.add(layers.Dense(10, activation='softmax')) \n",
    "net.compile(optimizer='nadam',loss='categorical_crossentropy',metrics=['acc'])"
   ]
  },
  {
   "cell_type": "code",
   "execution_count": 223,
   "metadata": {},
   "outputs": [],
   "source": [
    "X_1 = X.reshape((60000, 28*28))\n",
    "X_2 = X_1/255\n",
    "\n",
    "X_t1 = X_t.reshape((10000, 28*28))\n",
    "X_t2 = X_t1/255"
   ]
  },
  {
   "cell_type": "code",
   "execution_count": 224,
   "metadata": {},
   "outputs": [
    {
     "name": "stdout",
     "output_type": "stream",
     "text": [
      "469/469 [==============================] - 14s 30ms/step - loss: 0.4988 - acc: 0.8163\n",
      "313/313 [==============================] - 2s 5ms/step - loss: 0.3879 - acc: 0.8587\n"
     ]
    },
    {
     "data": {
      "text/plain": [
       "(60000, 784)"
      ]
     },
     "execution_count": 224,
     "metadata": {},
     "output_type": "execute_result"
    }
   ],
   "source": [
    "net.fit(X_2, y, epochs=1, batch_size=128)\n",
    "test_loss, test_acc = net.evaluate(X_t2,y_t)\n",
    "X_2.shape"
   ]
  },
  {
   "cell_type": "code",
   "execution_count": 225,
   "metadata": {},
   "outputs": [
    {
     "data": {
      "text/plain": [
       "(60000, 28, 28)"
      ]
     },
     "execution_count": 225,
     "metadata": {},
     "output_type": "execute_result"
    }
   ],
   "source": [
    "X.shape"
   ]
  },
  {
   "cell_type": "code",
   "execution_count": 226,
   "metadata": {},
   "outputs": [
    {
     "data": {
      "text/plain": [
       "(60000, 784)"
      ]
     },
     "execution_count": 226,
     "metadata": {},
     "output_type": "execute_result"
    }
   ],
   "source": [
    "X_1.shape"
   ]
  },
  {
   "cell_type": "code",
   "execution_count": 227,
   "metadata": {},
   "outputs": [],
   "source": [
    "X_val2 = X_2[:10000]\n",
    "partial_X_2 = X_2[10000:]\n",
    "\n",
    "y_val2 = y[:10000]\n",
    "partial_y = y[10000:]"
   ]
  },
  {
   "cell_type": "code",
   "execution_count": 228,
   "metadata": {
    "scrolled": true
   },
   "outputs": [
    {
     "data": {
      "text/plain": [
       "array([[0., 0., 0., ..., 0., 0., 0.],\n",
       "       [0., 0., 0., ..., 0., 0., 0.],\n",
       "       [0., 0., 0., ..., 0., 0., 0.],\n",
       "       ...,\n",
       "       [0., 0., 0., ..., 0., 0., 0.],\n",
       "       [0., 0., 0., ..., 0., 0., 0.],\n",
       "       [0., 0., 0., ..., 0., 0., 0.]])"
      ]
     },
     "execution_count": 228,
     "metadata": {},
     "output_type": "execute_result"
    }
   ],
   "source": [
    "X_val2"
   ]
  },
  {
   "cell_type": "code",
   "execution_count": 229,
   "metadata": {
    "scrolled": false
   },
   "outputs": [
    {
     "name": "stdout",
     "output_type": "stream",
     "text": [
      "Epoch 1/20\n",
      "391/391 [==============================] - 15s 38ms/step - loss: 0.3474 - acc: 0.8714 - val_loss: 0.3275 - val_acc: 0.8772\n",
      "Epoch 2/20\n",
      "391/391 [==============================] - 15s 38ms/step - loss: 0.3102 - acc: 0.8844 - val_loss: 0.3389 - val_acc: 0.8716\n",
      "Epoch 3/20\n",
      "391/391 [==============================] - 15s 39ms/step - loss: 0.2852 - acc: 0.8952 - val_loss: 0.3130 - val_acc: 0.8830\n",
      "Epoch 4/20\n",
      "391/391 [==============================] - 16s 40ms/step - loss: 0.2627 - acc: 0.9005 - val_loss: 0.3468 - val_acc: 0.8684\n",
      "Epoch 5/20\n",
      "391/391 [==============================] - 14s 36ms/step - loss: 0.2452 - acc: 0.9073 - val_loss: 0.2995 - val_acc: 0.8918\n",
      "Epoch 6/20\n",
      "391/391 [==============================] - 12s 30ms/step - loss: 0.2335 - acc: 0.9110 - val_loss: 0.3059 - val_acc: 0.8887\n",
      "Epoch 7/20\n",
      "391/391 [==============================] - 12s 30ms/step - loss: 0.2187 - acc: 0.9158 - val_loss: 0.2974 - val_acc: 0.8924\n",
      "Epoch 8/20\n",
      "391/391 [==============================] - 11s 28ms/step - loss: 0.2061 - acc: 0.9216 - val_loss: 0.3137 - val_acc: 0.8910\n",
      "Epoch 9/20\n",
      "391/391 [==============================] - 11s 28ms/step - loss: 0.1936 - acc: 0.9254 - val_loss: 0.3026 - val_acc: 0.8916\n",
      "Epoch 10/20\n",
      "391/391 [==============================] - 11s 28ms/step - loss: 0.1879 - acc: 0.9273 - val_loss: 0.3160 - val_acc: 0.8948\n",
      "Epoch 11/20\n",
      "391/391 [==============================] - 11s 29ms/step - loss: 0.1761 - acc: 0.9323 - val_loss: 0.3122 - val_acc: 0.8933\n",
      "Epoch 12/20\n",
      "391/391 [==============================] - 11s 29ms/step - loss: 0.1700 - acc: 0.9347 - val_loss: 0.3343 - val_acc: 0.8948\n",
      "Epoch 13/20\n",
      "391/391 [==============================] - 12s 30ms/step - loss: 0.1628 - acc: 0.9372 - val_loss: 0.3151 - val_acc: 0.9001\n",
      "Epoch 14/20\n",
      "391/391 [==============================] - 14s 37ms/step - loss: 0.1521 - acc: 0.9413 - val_loss: 0.3221 - val_acc: 0.8964\n",
      "Epoch 15/20\n",
      "391/391 [==============================] - 15s 38ms/step - loss: 0.1442 - acc: 0.9445 - val_loss: 0.3929 - val_acc: 0.8907 - loss: 0.1\n",
      "Epoch 16/20\n",
      "391/391 [==============================] - 15s 38ms/step - loss: 0.1431 - acc: 0.9445 - val_loss: 0.3380 - val_acc: 0.8961\n",
      "Epoch 17/20\n",
      "391/391 [==============================] - 14s 35ms/step - loss: 0.1331 - acc: 0.9479 - val_loss: 0.3800 - val_acc: 0.8974\n",
      "Epoch 18/20\n",
      "391/391 [==============================] - 12s 32ms/step - loss: 0.1259 - acc: 0.9507 - val_loss: 0.3533 - val_acc: 0.8962\n",
      "Epoch 19/20\n",
      "391/391 [==============================] - 12s 32ms/step - loss: 0.1239 - acc: 0.9516 - val_loss: 0.3827 - val_acc: 0.8945\n",
      "Epoch 20/20\n",
      "391/391 [==============================] - 12s 31ms/step - loss: 0.1195 - acc: 0.9537 - val_loss: 0.3739 - val_acc: 0.8924\n"
     ]
    }
   ],
   "source": [
    "val2 = net.fit(partial_X_2,partial_y,epochs=20, batch_size=128, validation_data=(X_val2, y_val2))"
   ]
  },
  {
   "cell_type": "code",
   "execution_count": null,
   "metadata": {},
   "outputs": [],
   "source": []
  },
  {
   "cell_type": "code",
   "execution_count": 248,
   "metadata": {},
   "outputs": [
    {
     "data": {
      "text/plain": [
       "(2, <matplotlib.image.AxesImage at 0x27c83f23588>)"
      ]
     },
     "execution_count": 248,
     "metadata": {},
     "output_type": "execute_result"
    },
    {
     "data": {
      "image/png": "[encoded data removed]",
      "text/plain": [
       "<Figure size 432x288 with 1 Axes>"
      ]
     },
     "metadata": {
      "needs_background": "light"
     },
     "output_type": "display_data"
    }
   ],
   "source": [
    "Y[123], plt.imshow(X[123],cmap=plt.cm.binary)"
   ]
  },
  {
   "cell_type": "code",
   "execution_count": 231,
   "metadata": {},
   "outputs": [
    {
     "data": {
      "text/plain": [
       "2"
      ]
     },
     "execution_count": 231,
     "metadata": {},
     "output_type": "execute_result"
    }
   ],
   "source": [
    "np.argmax(net.predict(X_1)[123])"
   ]
  },
  {
   "cell_type": "code",
   "execution_count": null,
   "metadata": {},
   "outputs": [],
   "source": []
  },
  {
   "cell_type": "code",
   "execution_count": null,
   "metadata": {},
   "outputs": [],
   "source": []
  },
  {
   "cell_type": "code",
   "execution_count": null,
   "metadata": {},
   "outputs": [],
   "source": []
  }
 ],
 "metadata": {
  "kernelspec": {
   "display_name": "Python 3",
   "language": "python",
   "name": "python3"
  },
  "language_info": {
   "codemirror_mode": {
    "name": "ipython",
    "version": 3
   },
   "file_extension": ".py",
   "mimetype": "text/x-python",
   "name": "python",
   "nbconvert_exporter": "python",
   "pygments_lexer": "ipython3",
   "version": "3.7.6"
  }
 },
 "nbformat": 4,
 "nbformat_minor": 4
}
