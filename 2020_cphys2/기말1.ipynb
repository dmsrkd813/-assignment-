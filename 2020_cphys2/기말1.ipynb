{
 "cells": [
  {
   "cell_type": "markdown",
   "metadata": {},
   "source": [
    "# 2018016037 물리학과 조은강\n",
    "기말대체과제 1 와인분류"
   ]
  },
  {
   "cell_type": "markdown",
   "metadata": {},
   "source": [
    "와인의 데이터를 그룹화 하기 위하여 클러스터링을 사용하는데 가장 직관적인 K-means clustering을 사용하였다. 데이터를 2차원으로 배치하고 클러스터라고 하는 데이터 묶음을 만들어 데이터와 클러스터들의 데이터평균(중심)간의 거리를 계산하여 가장 가까운 클러스터에 데이터를 배정하고 데이터가 배정된만큼 변한 클러스터의 중심을 다시 평균으로 이동하여 클러스터가 변하지 않을때까지 반복시키는 방법을 사용하였는데. 13가지의 서로다른 데이터를 x,y평면에 나타내기 위하여 lcohol 데이터를 x축으로 두고 매 시료의 13가지 특징데이터에 각각 평균값을 나눈후 모두곱해진값을 y축으로 두어 분류를 해보았습니다. 클러스터링 결과 군집을 보기좋게 나누는데 성공했지만 실제wine['target'] 값에는 일치하지 못하는 결과나 나왔다. 이는 13개의 데이터를 2차원으로 압축하는 과정에서 몇몇 솟구치듯 군집 밖으로 나가는 데이터가 생겼고 그것을 반영하기 위해 클러스터의 중심이 심각하게 움직여서 그렇게 된듯합니다. 3차원. 4차원으로 행렬의 크기를 늘리면 더 정확하게 분류가 가능할 것 같습니다. "
   ]
  },
  {
   "cell_type": "code",
   "execution_count": 264,
   "metadata": {},
   "outputs": [
    {
     "name": "stdout",
     "output_type": "stream",
     "text": [
      ".. _wine_dataset:\n",
      "\n",
      "Wine recognition dataset\n",
      "------------------------\n",
      "\n",
      "**Data Set Characteristics:**\n",
      "\n",
      "    :Number of Instances: 178 (50 in each of three classes)\n",
      "    :Number of Attributes: 13 numeric, predictive attributes and the class\n",
      "    :Attribute Information:\n",
      " \t\t- Alcohol\n",
      " \t\t- Malic acid\n",
      " \t\t- Ash\n",
      "\t\t- Alcalinity of ash  \n",
      " \t\t- Magnesium\n",
      "\t\t- Total phenols\n",
      " \t\t- Flavanoids\n",
      " \t\t- Nonflavanoid phenols\n",
      " \t\t- Proanthocyanins\n",
      "\t\t- Color intensity\n",
      " \t\t- Hue\n",
      " \t\t- OD280/OD315 of diluted wines\n",
      " \t\t- Proline\n",
      "\n",
      "    - class:\n",
      "            - class_0\n",
      "            - class_1\n",
      "            - class_2\n",
      "\t\t\n",
      "    :Summary Statistics:\n",
      "    \n",
      "    ============================= ==== ===== ======= =====\n",
      "                                   Min   Max   Mean     SD\n",
      "    ============================= ==== ===== ======= =====\n",
      "    Alcohol:                      11.0  14.8    13.0   0.8\n",
      "    Malic Acid:                   0.74  5.80    2.34  1.12\n",
      "    Ash:                          1.36  3.23    2.36  0.27\n",
      "    Alcalinity of Ash:            10.6  30.0    19.5   3.3\n",
      "    Magnesium:                    70.0 162.0    99.7  14.3\n",
      "    Total Phenols:                0.98  3.88    2.29  0.63\n",
      "    Flavanoids:                   0.34  5.08    2.03  1.00\n",
      "    Nonflavanoid Phenols:         0.13  0.66    0.36  0.12\n",
      "    Proanthocyanins:              0.41  3.58    1.59  0.57\n",
      "    Colour Intensity:              1.3  13.0     5.1   2.3\n",
      "    Hue:                          0.48  1.71    0.96  0.23\n",
      "    OD280/OD315 of diluted wines: 1.27  4.00    2.61  0.71\n",
      "    Proline:                       278  1680     746   315\n",
      "    ============================= ==== ===== ======= =====\n",
      "\n",
      "    :Missing Attribute Values: None\n",
      "    :Class Distribution: class_0 (59), class_1 (71), class_2 (48)\n",
      "    :Creator: R.A. Fisher\n",
      "    :Donor: Michael Marshall (MARSHALL%PLU@io.arc.nasa.gov)\n",
      "    :Date: July, 1988\n",
      "\n",
      "This is a copy of UCI ML Wine recognition datasets.\n",
      "https://archive.ics.uci.edu/ml/machine-learning-databases/wine/wine.data\n",
      "\n",
      "The data is the results of a chemical analysis of wines grown in the same\n",
      "region in Italy by three different cultivators. There are thirteen different\n",
      "measurements taken for different constituents found in the three types of\n",
      "wine.\n",
      "\n",
      "Original Owners: \n",
      "\n",
      "Forina, M. et al, PARVUS - \n",
      "An Extendible Package for Data Exploration, Classification and Correlation. \n",
      "Institute of Pharmaceutical and Food Analysis and Technologies,\n",
      "Via Brigata Salerno, 16147 Genoa, Italy.\n",
      "\n",
      "Citation:\n",
      "\n",
      "Lichman, M. (2013). UCI Machine Learning Repository\n",
      "[https://archive.ics.uci.edu/ml]. Irvine, CA: University of California,\n",
      "School of Information and Computer Science. \n",
      "\n",
      ".. topic:: References\n",
      "\n",
      "  (1) S. Aeberhard, D. Coomans and O. de Vel, \n",
      "  Comparison of Classifiers in High Dimensional Settings, \n",
      "  Tech. Rep. no. 92-02, (1992), Dept. of Computer Science and Dept. of  \n",
      "  Mathematics and Statistics, James Cook University of North Queensland. \n",
      "  (Also submitted to Technometrics). \n",
      "\n",
      "  The data was used with many others for comparing various \n",
      "  classifiers. The classes are separable, though only RDA \n",
      "  has achieved 100% correct classification. \n",
      "  (RDA : 100%, QDA 99.4%, LDA 98.9%, 1NN 96.1% (z-transformed data)) \n",
      "  (All results using the leave-one-out technique) \n",
      "\n",
      "  (2) S. Aeberhard, D. Coomans and O. de Vel, \n",
      "  \"THE CLASSIFICATION PERFORMANCE OF RDA\" \n",
      "  Tech. Rep. no. 92-01, (1992), Dept. of Computer Science and Dept. of \n",
      "  Mathematics and Statistics, James Cook University of North Queensland. \n",
      "  (Also submitted to Journal of Chemometrics).\n",
      "\n"
     ]
    }
   ],
   "source": [
    "from sklearn.datasets import load_wine\n",
    "import matplotlib.pyplot as plt\n",
    "import numpy as np\n",
    "import pandas as pd\n",
    "import matplotlib.pyplot as plt\n",
    "import seaborn as sns\n",
    "import matplotlib.font_manager as fm\n",
    "wine = load_wine()\n",
    "print(wine.DESCR)"
   ]
  },
  {
   "cell_type": "code",
   "execution_count": 261,
   "metadata": {},
   "outputs": [],
   "source": [
    "X=wine['data']\n",
    "y=wine['target']"
   ]
  },
  {
   "cell_type": "code",
   "execution_count": 262,
   "metadata": {},
   "outputs": [
    {
     "data": {
      "text/plain": [
       "(178, 13)"
      ]
     },
     "execution_count": 262,
     "metadata": {},
     "output_type": "execute_result"
    }
   ],
   "source": [
    "m=X.shape[0] \n",
    "n=X.shape[1]\n",
    "m,n"
   ]
  },
  {
   "cell_type": "code",
   "execution_count": null,
   "metadata": {},
   "outputs": [],
   "source": []
  },
  {
   "cell_type": "code",
   "execution_count": null,
   "metadata": {},
   "outputs": [],
   "source": []
  },
  {
   "cell_type": "code",
   "execution_count": 362,
   "metadata": {},
   "outputs": [],
   "source": [
    "\n",
    "import numpy as np\n",
    "import matplotlib.pyplot as plt\n",
    "\n",
    "from sklearn.cluster import KMeans\n",
    "\n",
    "import pandas as pd\n",
    "\n",
    "Xo = pd.DataFrame(X)\n"
   ]
  },
  {
   "cell_type": "code",
   "execution_count": 386,
   "metadata": {},
   "outputs": [
    {
     "name": "stdout",
     "output_type": "stream",
     "text": [
      "{'0': 13.000617977528083, '1': 2.336348314606741, '2': 2.3665168539325854, '3': 19.49494382022472, '4': 99.74157303370787, '5': 2.295112359550562, '6': 2.0292696629213474, '7': 0.36185393258426973, '8': 1.5908988764044953, '9': 5.058089882022473, '10': 0.9574494382022468, '11': 2.6116853932584254, '12': 746.8932584269663}\n"
     ]
    }
   ],
   "source": [
    "Xa=np.array(Xo)\n",
    "sum_list = {} #합들을 담을 dictionary\n",
    "n=178\n",
    "for i in range(13):\n",
    "\n",
    "    columnsum = 0 #열의 합\n",
    "    for j in range(n):\n",
    " \n",
    "        columnsum += Xa[j][i]\n",
    "\n",
    "    sum_list[str(i)]=columnsum/178 \n",
    "print(sum_list)"
   ]
  },
  {
   "cell_type": "code",
   "execution_count": 387,
   "metadata": {},
   "outputs": [
    {
     "data": {
      "text/plain": [
       "3540061175.1296134"
      ]
     },
     "execution_count": 387,
     "metadata": {},
     "output_type": "execute_result"
    }
   ],
   "source": [
    "Multi= sum_list['0']*sum_list['1']*sum_list['2']*sum_list['3']*sum_list['4']*sum_list['5']*sum_list['6']*sum_list['7']*sum_list['8']*sum_list['9']*sum_list['10']*sum_list['11']*sum_list['12']\n",
    "Multi"
   ]
  },
  {
   "cell_type": "code",
   "execution_count": 388,
   "metadata": {},
   "outputs": [],
   "source": [
    "def XX(n):\n",
    "    x=np.prod(Xa[n])\n",
    "    return x/ #n번째 와인 13항목의곱/13항목의평균곱"
   ]
  },
  {
   "cell_type": "code",
   "execution_count": 389,
   "metadata": {},
   "outputs": [
    {
     "data": {
      "text/plain": [
       "(0.6246231161033732, 4.451905385875247)"
      ]
     },
     "execution_count": 389,
     "metadata": {},
     "output_type": "execute_result"
    }
   ],
   "source": [
    "XX(177),XX(0)"
   ]
  },
  {
   "cell_type": "code",
   "execution_count": 390,
   "metadata": {},
   "outputs": [
    {
     "data": {
      "text/plain": [
       "array([4.45190539e+00, 6.35747794e-01, 7.39599304e+00, 9.04557341e+00,\n",
       "       3.56351452e+00, 6.40348606e+00, 2.41568895e+00, 2.97865616e+00,\n",
       "       1.62240572e+00, 1.94438646e+00, 6.59820101e+00, 1.00721785e+00,\n",
       "       2.14132144e+00, 5.23478196e+00, 9.53031402e+00, 4.64175774e+00,\n",
       "       6.51187119e+00, 5.52412516e+00, 1.10225049e+01, 1.73024514e+00,\n",
       "       2.54180391e+00, 2.52030300e+00, 1.70714919e+00, 8.71514140e-01,\n",
       "       1.35098715e+00, 5.15525724e+00, 1.84350850e+00, 6.07145698e-01,\n",
       "       4.31994511e+00, 1.30387617e+00, 5.67404129e+00, 3.90789642e+00,\n",
       "       2.15792725e+00, 5.63948883e+00, 1.46674407e+00, 2.24344663e+00,\n",
       "       1.17736642e+00, 8.98045312e-01, 5.14355157e-01, 3.14019051e+00,\n",
       "       3.70021555e+00, 1.65561205e+00, 1.81105117e+00, 1.65279617e+00,\n",
       "       1.67657455e+00, 3.85460442e+00, 6.17142621e+00, 1.94328583e+00,\n",
       "       4.42203869e+00, 7.67796808e+00, 1.76232273e+00, 2.96040126e+00,\n",
       "       6.16270913e+00, 6.12624241e+00, 1.32161817e+00, 3.24893718e+00,\n",
       "       2.94729819e+00, 3.92170874e+00, 2.69756744e+00, 1.07166795e-03,\n",
       "       3.78189192e-02, 6.21838298e-02, 9.97421847e-02, 3.55664038e-01,\n",
       "       1.29368368e-01, 8.08867788e-01, 3.96026630e-01, 1.32287725e-01,\n",
       "       5.55879151e-02, 1.21434902e-01, 6.88323777e-02, 6.69660419e-01,\n",
       "       1.36882812e-01, 3.94577016e+00, 2.45635692e-01, 7.80705276e-02,\n",
       "       5.75344532e-02, 1.29186241e-01, 2.86934798e-01, 2.07586672e+00,\n",
       "       7.15549918e-02, 6.00999586e-01, 1.58340757e-01, 6.83165940e-01,\n",
       "       1.26048446e-01, 1.19936718e-01, 1.92827577e-01, 3.48204548e-01,\n",
       "       3.38044238e-01, 1.30590608e-01, 1.25490981e-01, 1.56052143e-01,\n",
       "       1.16019102e-01, 2.24194848e-01, 1.58428056e-01, 1.60511789e+00,\n",
       "       6.47930903e-02, 1.80431858e-01, 6.75625056e-01, 1.55779878e+00,\n",
       "       3.17769278e-01, 4.51779753e-02, 3.44954978e-01, 7.64773781e-02,\n",
       "       3.09516913e-01, 2.81182411e-01, 2.14204475e-01, 1.76588916e-01,\n",
       "       1.29028953e-01, 7.32236230e-01, 1.11321288e+00, 1.02910909e-01,\n",
       "       8.50106750e-01, 1.12837435e-01, 1.94617721e-01, 4.00536426e-01,\n",
       "       7.75790424e-02, 1.53374112e-01, 4.28005484e-02, 1.78630858e-01,\n",
       "       9.41410177e-01, 9.96871286e+00, 8.61169656e-01, 7.88225043e-01,\n",
       "       9.14899711e-01, 2.88918998e-01, 3.68323554e-01, 8.33291861e-01,\n",
       "       2.09436586e-01, 3.90819081e-01, 2.35746964e-02, 5.15980242e-02,\n",
       "       3.79761403e-02, 6.02339824e-02, 5.11888111e-02, 1.20716769e-01,\n",
       "       5.63003830e-02, 3.28187759e-01, 9.94450575e-02, 2.25457556e-01,\n",
       "       8.39436821e-02, 5.05918874e-02, 6.90003432e-02, 2.85158195e-01,\n",
       "       1.98746112e-01, 9.43269163e-02, 1.00237861e-02, 1.64840545e-01,\n",
       "       2.30907635e-01, 2.45994395e-01, 1.83450729e-01, 1.31240960e-01,\n",
       "       1.60042652e-01, 5.21677606e-01, 5.52322800e-02, 4.83131523e-01,\n",
       "       3.00902142e-01, 4.46100258e-01, 2.26498166e+00, 8.46255143e-01,\n",
       "       2.27779325e-01, 1.96239188e-01, 2.37769862e-01, 9.03117229e-02,\n",
       "       1.31417218e-01, 1.27915415e-01, 9.01768468e-01, 1.61658347e-01,\n",
       "       4.63336021e-01, 5.47185525e-01, 2.67744986e-02, 3.10347033e-02,\n",
       "       1.97348773e-01, 3.74212835e-01, 4.21384519e-01, 4.34445499e-01,\n",
       "       3.61313710e-01, 6.24623116e-01])"
      ]
     },
     "execution_count": 390,
     "metadata": {},
     "output_type": "execute_result"
    }
   ],
   "source": [
    "\n",
    "n=177\n",
    "f=np . zeros(n+1,float)\n",
    "while(n>-1):\n",
    "    \n",
    "    f[n] = XX(n)\n",
    "    n=n-1\n",
    "\n",
    "f"
   ]
  },
  {
   "cell_type": "code",
   "execution_count": 416,
   "metadata": {},
   "outputs": [],
   "source": [
    "a=np.vstack((X[:,0],f))\n",
    "\n",
    "import pandas as pd\n",
    "\n",
    "a=a.transpose()\n"
   ]
  },
  {
   "cell_type": "code",
   "execution_count": 429,
   "metadata": {},
   "outputs": [],
   "source": [
    "import pandas as pd\n",
    "import matplotlib.pyplot as plt\n",
    "import seaborn as sns\n",
    "import matplotlib.font_manager as fm\n",
    "import numpy as np\n",
    "import random as rd\n",
    "m=a.shape[0] \n",
    "n=a.shape[1]\n",
    "K=3\n",
    "n_iter=500"
   ]
  },
  {
   "cell_type": "code",
   "execution_count": 430,
   "metadata": {},
   "outputs": [
    {
     "name": "stdout",
     "output_type": "stream",
     "text": [
      "0\n",
      "1\n",
      "2\n"
     ]
    }
   ],
   "source": [
    "Centroids=np.array([]).reshape(n,0) # 클러스터 중심 초기화\n",
    "Centroids\n",
    "for i in range(3):\n",
    "    print(i) \n",
    "    \n",
    "for i in range(K):\n",
    "    rand=rd.randint(0,m-1) \n",
    "    Centroids=np.c_[Centroids,a[rand]] # 클러스터 중심(열) 추가"
   ]
  },
  {
   "cell_type": "code",
   "execution_count": 431,
   "metadata": {},
   "outputs": [
    {
     "data": {
      "image/png": "[encoded data removed]",
      "text/plain": [
       "<Figure size 432x288 with 1 Axes>"
      ]
     },
     "metadata": {
      "needs_background": "light"
     },
     "output_type": "display_data"
    }
   ],
   "source": [
    "for i in range(n_iter): # n_iter 반복 횟수\n",
    "    # 유클리드 거리가 최소가 되는 K 클러스터 할당\n",
    "    EuclidianDistance=np.array([]).reshape(m,0)\n",
    "    for k in range(K):\n",
    "        tempDist=np.sum((a-Centroids[:,k])**2,axis=1) \n",
    "        EuclidianDistance=np.c_[EuclidianDistance,tempDist] \n",
    "    C=np.argmin(EuclidianDistance,axis=1)+1 # shape=(22,)\n",
    "    # K 클러스터 갱신\n",
    "    Y={}\n",
    "    for k in range(K):\n",
    "        Y[k+1]=np.array([]).reshape(2,0) \n",
    "    for i in range(m):\n",
    "        Y[C[i]]=np.c_[Y[C[i]],a[i]]\n",
    "    for k in range(K):\n",
    "        Y[k+1]=Y[k+1].T # 전치행렬\n",
    "    for k in range(K):\n",
    "        Centroids[:,k]=np.mean(Y[k+1],axis=0) # K 클러스터 중심 갱신\n",
    "    Output=Y\n",
    "    # K-평균 클러스터링 결과 가시화\n",
    "color=['red','blue','green']\n",
    "labels=['cluster1','cluster2','cluster3']\n",
    "\n",
    "\n",
    "for k in range(K):\n",
    "    plt.scatter(Output[k+1][:,0],Output[k+1][:,1],c=color[k],label=labels[k])\n",
    "plt.scatter(Centroids[0,:],Centroids[1,:],s=200,c=['red','blue','green'])\n",
    "\n",
    "plt.xlabel('Alcohol')\n",
    "plt.ylabel('f')\n",
    "plt.legend()\n",
    "plt.show()\n"
   ]
  },
  {
   "cell_type": "code",
   "execution_count": null,
   "metadata": {},
   "outputs": [],
   "source": []
  },
  {
   "cell_type": "code",
   "execution_count": null,
   "metadata": {
    "scrolled": true
   },
   "outputs": [],
   "source": []
  },
  {
   "cell_type": "code",
   "execution_count": null,
   "metadata": {},
   "outputs": [],
   "source": []
  },
  {
   "cell_type": "code",
   "execution_count": null,
   "metadata": {},
   "outputs": [],
   "source": []
  },
  {
   "cell_type": "code",
   "execution_count": null,
   "metadata": {},
   "outputs": [],
   "source": []
  },
  {
   "cell_type": "code",
   "execution_count": null,
   "metadata": {},
   "outputs": [],
   "source": []
  },
  {
   "cell_type": "code",
   "execution_count": null,
   "metadata": {},
   "outputs": [],
   "source": []
  },
  {
   "cell_type": "code",
   "execution_count": null,
   "metadata": {},
   "outputs": [],
   "source": [
    "\n"
   ]
  },
  {
   "cell_type": "code",
   "execution_count": null,
   "metadata": {},
   "outputs": [],
   "source": []
  },
  {
   "cell_type": "code",
   "execution_count": null,
   "metadata": {},
   "outputs": [],
   "source": []
  },
  {
   "cell_type": "code",
   "execution_count": null,
   "metadata": {},
   "outputs": [],
   "source": []
  },
  {
   "cell_type": "code",
   "execution_count": null,
   "metadata": {},
   "outputs": [],
   "source": []
  },
  {
   "cell_type": "code",
   "execution_count": null,
   "metadata": {},
   "outputs": [],
   "source": []
  },
  {
   "cell_type": "code",
   "execution_count": null,
   "metadata": {},
   "outputs": [],
   "source": []
  },
  {
   "cell_type": "code",
   "execution_count": null,
   "metadata": {},
   "outputs": [],
   "source": []
  },
  {
   "cell_type": "code",
   "execution_count": null,
   "metadata": {},
   "outputs": [],
   "source": []
  },
  {
   "cell_type": "code",
   "execution_count": null,
   "metadata": {},
   "outputs": [],
   "source": []
  },
  {
   "cell_type": "code",
   "execution_count": 401,
   "metadata": {},
   "outputs": [],
   "source": [
    " #와인 13항목의곱/13항목의평균곱"
   ]
  }
 ],
 "metadata": {
  "kernelspec": {
   "display_name": "Python 3",
   "language": "python",
   "name": "python3"
  },
  "language_info": {
   "codemirror_mode": {
    "name": "ipython",
    "version": 3
   },
   "file_extension": ".py",
   "mimetype": "text/x-python",
   "name": "python",
   "nbconvert_exporter": "python",
   "pygments_lexer": "ipython3",
   "version": "3.7.6"
  }
 },
 "nbformat": 4,
 "nbformat_minor": 4
}
